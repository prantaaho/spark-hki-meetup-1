{
 "metadata": {
  "name": "",
  "signature": "sha256:87812a48bee72d0064241fcc0b4a7f84df457825aedfcf6a82d5d1d87c1c3a2f"
 },
 "nbformat": 3,
 "nbformat_minor": 0,
 "worksheets": [
  {
   "cells": [
    {
     "cell_type": "markdown",
     "metadata": {
      "slideshow": {
       "slide_type": "-"
      }
     },
     "source": [
      "# Word count example"
     ]
    },
    {
     "cell_type": "code",
     "collapsed": false,
     "input": [
      "file_rdd = sc.textFile(\"README.md\")"
     ],
     "language": "python",
     "metadata": {},
     "outputs": [],
     "prompt_number": 11
    },
    {
     "cell_type": "code",
     "collapsed": false,
     "input": [
      "result_rdd = file_rdd.flatMap(lambda line: line.split())\\\n",
      ".map(lambda word: (word, 1))\\\n",
      ".reduceByKey(lambda a, b: a+b)"
     ],
     "language": "python",
     "metadata": {},
     "outputs": [],
     "prompt_number": 12
    },
    {
     "cell_type": "code",
     "collapsed": false,
     "input": [
      "print result_rdd.toDebugString()"
     ],
     "language": "python",
     "metadata": {},
     "outputs": [
      {
       "output_type": "stream",
       "stream": "stdout",
       "text": [
        "(2) PythonRDD[15] at RDD at PythonRDD.scala:43 []\n",
        " |  MappedRDD[14] at values at NativeMethodAccessorImpl.java:-2 []\n",
        " |  ShuffledRDD[13] at partitionBy at NativeMethodAccessorImpl.java:-2 []\n",
        " +-(2) PairwiseRDD[12] at reduceByKey at <ipython-input-12-a58ab85c718c>:1 []\n",
        "    |  PythonRDD[11] at reduceByKey at <ipython-input-12-a58ab85c718c>:1 []\n",
        "    |  README.md MappedRDD[9] at textFile at NativeMethodAccessorImpl.java:-2 []\n",
        "    |  README.md HadoopRDD[8] at textFile at NativeMethodAccessorImpl.java:-2 []\n"
       ]
      }
     ],
     "prompt_number": 25
    },
    {
     "cell_type": "code",
     "collapsed": false,
     "input": [
      "results_sorted_in_python = sorted(result_rdd.collect(), key=lambda x: x[1], reverse=True)\n",
      "print results_sorted_in_python[:5]"
     ],
     "language": "python",
     "metadata": {},
     "outputs": [
      {
       "output_type": "stream",
       "stream": "stdout",
       "text": [
        "[(u'##', 6), (u'in', 5), (u'Run', 4), (u'Spark', 4), (u'spark', 4)]\n"
       ]
      }
     ],
     "prompt_number": 20
    },
    {
     "cell_type": "code",
     "collapsed": false,
     "input": [
      "results_sorted_in_spark = result_rdd.sortBy(lambda x: x[1], ascending=False).collect()\n",
      "print results_sorted_in_spark[:5]"
     ],
     "language": "python",
     "metadata": {},
     "outputs": [
      {
       "output_type": "stream",
       "stream": "stdout",
       "text": [
        "[(u'##', 6), (u'in', 5), (u'Run', 4), (u'Spark', 4), (u'spark', 4)]\n"
       ]
      }
     ],
     "prompt_number": 22
    },
    {
     "cell_type": "code",
     "collapsed": false,
     "input": [],
     "language": "python",
     "metadata": {},
     "outputs": []
    }
   ],
   "metadata": {}
  }
 ]
}